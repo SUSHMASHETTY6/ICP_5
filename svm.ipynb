{
  "nbformat": 4,
  "nbformat_minor": 0,
  "metadata": {
    "colab": {
      "provenance": []
    },
    "kernelspec": {
      "name": "python3",
      "display_name": "Python 3"
    },
    "language_info": {
      "name": "python"
    }
  },
  "cells": [
    {
      "cell_type": "code",
      "execution_count": 1,
      "metadata": {
        "colab": {
          "base_uri": "https://localhost:8080/"
        },
        "id": "dxO0j20sMy-5",
        "outputId": "93091c42-706d-43ac-cd9c-5d30e6ccd6d7"
      },
      "outputs": [
        {
          "output_type": "stream",
          "name": "stdout",
          "text": [
            "              precision    recall  f1-score   support\n",
            "\n",
            "           1       0.00      0.00      0.00        14\n",
            "           2       0.40      1.00      0.57        17\n",
            "           5       0.00      0.00      0.00         3\n",
            "           6       0.00      0.00      0.00         2\n",
            "           7       0.00      0.00      0.00         7\n",
            "\n",
            "    accuracy                           0.40        43\n",
            "   macro avg       0.08      0.20      0.11        43\n",
            "weighted avg       0.16      0.40      0.22        43\n",
            "\n",
            "The Accuracy of svm is:  39.53488372093023\n"
          ]
        }
      ],
      "source": [
        "import pandas as pd\n",
        "from sklearn.model_selection import train_test_split\n",
        "from sklearn.svm import SVC\n",
        "from sklearn.metrics import classification_report, accuracy_score\n",
        "glass_info = pd.read_csv('glass.csv')\n",
        "x_train = glass_info.drop(\"Type\", axis=1)\n",
        "y_train = glass_info['Type']\n",
        "x_train, x_test, y_train, y_test = train_test_split(x_train, y_train, test_size=0.2, random_state=4)\n",
        "svc = SVC()\n",
        "svc.fit(x_train, y_train)\n",
        "y_pred = svc.predict(x_test)\n",
        "q_rep = classification_report(y_test, y_pred, zero_division = 0)\n",
        "print(q_rep)\n",
        "print(\"The Accuracy of svm is: \", accuracy_score(y_test, y_pred)*100)"
      ]
    }
  ]
}